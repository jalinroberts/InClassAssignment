{
 "cells": [
  {
   "cell_type": "markdown",
   "id": "7b8e8c07",
   "metadata": {},
   "source": [
    "# Numpy- inclass assignment 2 (Group of two)\n",
    "## Submit your work using GitHub to Moodle"
   ]
  },
  {
   "cell_type": "markdown",
   "id": "4a478332",
   "metadata": {},
   "source": [
    "### Generate a random numpy array for Month of October where the highest temperature varies between 48-81 degree Farenheit\n",
    "- Keep in mind the length of the month\n",
    "- set a random seed of 1 for regenerate\n",
    "- Display the numpy array named `Temp_O` and find out the minimum and maximum temperature of month"
   ]
  },
  {
   "cell_type": "code",
   "execution_count": 1,
   "id": "36648a67",
   "metadata": {},
   "outputs": [],
   "source": [
    "import numpy as np\n",
    "np.random.seed(1)\n",
    "Temp_0 = np.random.randint(48,81, size = 31)"
   ]
  },
  {
   "cell_type": "code",
   "execution_count": 2,
   "id": "b476b0c6",
   "metadata": {},
   "outputs": [
    {
     "name": "stdout",
     "output_type": "stream",
     "text": [
      "Min:  48\n",
      "Max:  48\n"
     ]
    }
   ],
   "source": [
    "print(\"Min: \", Temp_0.min())\n",
    "print(\"Max: \", Temp_0.min())"
   ]
  },
  {
   "cell_type": "code",
   "execution_count": null,
   "id": "2231f10d",
   "metadata": {},
   "outputs": [],
   "source": []
  },
  {
   "cell_type": "markdown",
   "id": "faba3521",
   "metadata": {},
   "source": [
    "### Load the numpy file contains the temperature of Month of December and store it to a variable named Temp_D"
   ]
  },
  {
   "cell_type": "code",
   "execution_count": 4,
   "id": "80b7bf19",
   "metadata": {},
   "outputs": [],
   "source": [
    "Temp_D=np.load(\"Temp_December.npy\")"
   ]
  },
  {
   "cell_type": "markdown",
   "id": "641559dd",
   "metadata": {},
   "source": [
    "### Compare two numpy array - Temp_O and Temp_D\n",
    "- Elementwise\n",
    "- Arraywise"
   ]
  },
  {
   "cell_type": "code",
   "execution_count": 5,
   "id": "993d3d61",
   "metadata": {},
   "outputs": [
    {
     "data": {
      "text/plain": [
       "array([ True,  True,  True,  True,  True,  True,  True,  True,  True,\n",
       "        True,  True,  True,  True,  True,  True,  True,  True,  True,\n",
       "        True,  True,  True,  True,  True,  True,  True,  True,  True,\n",
       "        True,  True,  True,  True])"
      ]
     },
     "execution_count": 5,
     "metadata": {},
     "output_type": "execute_result"
    }
   ],
   "source": [
    "Temp_D < Temp_0"
   ]
  },
  {
   "cell_type": "code",
   "execution_count": 6,
   "id": "765cb9e3",
   "metadata": {},
   "outputs": [
    {
     "data": {
      "text/plain": [
       "array([False, False, False, False, False, False, False, False, False,\n",
       "       False, False, False, False, False, False, False, False, False,\n",
       "       False, False, False, False, False, False, False, False, False,\n",
       "       False, False, False, False])"
      ]
     },
     "execution_count": 6,
     "metadata": {},
     "output_type": "execute_result"
    }
   ],
   "source": [
    "Temp_0 == Temp_D"
   ]
  },
  {
   "cell_type": "code",
   "execution_count": 7,
   "id": "d7c75980",
   "metadata": {},
   "outputs": [
    {
     "data": {
      "text/plain": [
       "False"
      ]
     },
     "execution_count": 7,
     "metadata": {},
     "output_type": "execute_result"
    }
   ],
   "source": [
    "np.array_equal(Temp_D, Temp_0)"
   ]
  },
  {
   "cell_type": "markdown",
   "id": "7b1e5fc9",
   "metadata": {},
   "source": [
    "### Find out the:\n",
    "- Average temperature\n",
    "- Standard deviation\n",
    "- Varience\n",
    "- Minimum temp\n",
    "- Maximum temp\n",
    "- Median\n",
    "- Inter Quartile Range\n",
    "#### for Month of December"
   ]
  },
  {
   "cell_type": "code",
   "execution_count": 8,
   "id": "4c038182",
   "metadata": {},
   "outputs": [
    {
     "name": "stdout",
     "output_type": "stream",
     "text": [
      "Mean:  28.0\n",
      "Std Deviation 15.0\n",
      "Var: 220.0\n",
      "Min Temp:  7\n",
      "Max Temp: 57\n",
      "Median:  25.0\n",
      "IQR:  23.0\n"
     ]
    }
   ],
   "source": [
    "print(\"Mean: \", np.round(np.mean(Temp_D)))\n",
    "print(\"Std Deviation\", np.round(np.std(Temp_D)))\n",
    "print(\"Var:\", np.round(np.var(Temp_D)))\n",
    "print(\"Min Temp: \", np.min(Temp_D))\n",
    "print(\"Max Temp:\", np.max(Temp_D))\n",
    "print(\"Median: \", np.median(Temp_D))\n",
    "print(\"IQR: \", np.percentile(Temp_D, 75) - np.percentile(Temp_D, 25))"
   ]
  },
  {
   "cell_type": "code",
   "execution_count": null,
   "id": "5a9a320a",
   "metadata": {},
   "outputs": [],
   "source": []
  },
  {
   "cell_type": "code",
   "execution_count": null,
   "id": "f68cf92f",
   "metadata": {},
   "outputs": [],
   "source": []
  },
  {
   "cell_type": "markdown",
   "id": "732d294a",
   "metadata": {},
   "source": [
    "### Plot the distribution of December Temperature using Matplotlib\n",
    "- add title and create proper labels"
   ]
  },
  {
   "cell_type": "code",
   "execution_count": 9,
   "id": "890595ec",
   "metadata": {},
   "outputs": [],
   "source": [
    "import matplotlib.pyplot as plt"
   ]
  },
  {
   "cell_type": "code",
   "execution_count": 10,
   "id": "eed5f02e",
   "metadata": {},
   "outputs": [
    {
     "data": {
      "image/png": "[encoded data removed]",
      "text/plain": [
       "<Figure size 640x480 with 1 Axes>"
      ]
     },
     "metadata": {},
     "output_type": "display_data"
    }
   ],
   "source": [
    "plt.hist(Temp_D)\n",
    "plt.title(\"December Temperature\")\n",
    "plt.xlabel(\"Temperature(F)\")\n",
    "plt.ylabel(\"Number\")\n",
    "plt.show()"
   ]
  },
  {
   "cell_type": "code",
   "execution_count": null,
   "id": "a58c262c",
   "metadata": {},
   "outputs": [],
   "source": []
  },
  {
   "cell_type": "markdown",
   "id": "d48f4063",
   "metadata": {},
   "source": [
    "### Convert the Temp_D to Celsius and store it to a variable names Temp_C. \n",
    "- Round off the result\n",
    "- Save it to a numpy file called DecemberTemp_Celsius"
   ]
  },
  {
   "cell_type": "code",
   "execution_count": 11,
   "id": "5e786c6e",
   "metadata": {},
   "outputs": [],
   "source": [
    "Temp_C = np.round(Temp_D - 32)*(5/9)"
   ]
  },
  {
   "cell_type": "code",
   "execution_count": 12,
   "id": "beb1f329",
   "metadata": {},
   "outputs": [],
   "source": [
    "np.save(\"Temp_C.npy\", Temp_C)"
   ]
  },
  {
   "cell_type": "code",
   "execution_count": 13,
   "id": "8029c92f",
   "metadata": {},
   "outputs": [],
   "source": [
    "temp_C11=np.load(\"Temp_C.npy\")"
   ]
  },
  {
   "cell_type": "code",
   "execution_count": 14,
   "id": "ed4da1d7",
   "metadata": {},
   "outputs": [
    {
     "name": "stdout",
     "output_type": "stream",
     "text": [
      "[  6.66666667  10.          -7.22222222  -9.44444444  -8.88888889\n",
      "  -7.77777778 -11.11111111  -5.55555556 -13.88888889  -5.\n",
      " -13.33333333  -7.22222222 -10.          11.11111111 -10.55555556\n",
      "   0.          13.88888889  -2.77777778   6.66666667  -3.88888889\n",
      "  -2.77777778  -7.77777778   9.44444444   1.66666667   2.22222222\n",
      "  -6.11111111  13.88888889 -11.66666667  -1.11111111  -1.11111111\n",
      "   8.88888889]\n"
     ]
    }
   ],
   "source": [
    "print(temp_C11)"
   ]
  },
  {
   "cell_type": "code",
   "execution_count": null,
   "id": "3f6a3828",
   "metadata": {},
   "outputs": [],
   "source": []
  },
  {
   "cell_type": "code",
   "execution_count": null,
   "id": "5dad2a97",
   "metadata": {},
   "outputs": [],
   "source": []
  }
 ],
 "metadata": {
  "kernelspec": {
   "display_name": "Python 3 (ipykernel)",
   "language": "python",
   "name": "python3"
  },
  "language_info": {
   "codemirror_mode": {
    "name": "ipython",
    "version": 3
   },
   "file_extension": ".py",
   "mimetype": "text/x-python",
   "name": "python",
   "nbconvert_exporter": "python",
   "pygments_lexer": "ipython3",
   "version": "3.9.13"
  }
 },
 "nbformat": 4,
 "nbformat_minor": 5
}
